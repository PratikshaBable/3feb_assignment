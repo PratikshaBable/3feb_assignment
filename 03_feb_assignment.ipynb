{
  "nbformat": 4,
  "nbformat_minor": 0,
  "metadata": {
    "colab": {
      "provenance": []
    },
    "kernelspec": {
      "name": "python3",
      "display_name": "Python 3"
    },
    "language_info": {
      "name": "python"
    }
  },
  "cells": [
    {
      "cell_type": "code",
      "execution_count": 1,
      "metadata": {
        "colab": {
          "base_uri": "https://localhost:8080/"
        },
        "id": "lz51H6Kkt33a",
        "outputId": "561d80cd-a938-4bd5-ff95-81d0d6bdc04f"
      },
      "outputs": [
        {
          "output_type": "execute_result",
          "data": {
            "text/plain": [
              "[1, 3, 5, 7, 9, 11, 13, 15, 17, 19, 21, 23, 25]"
            ]
          },
          "metadata": {},
          "execution_count": 1
        }
      ],
      "source": [
        "# Q1. Which keyword is used to create a function? Create a function to return a list of odd numbers in the range of 1 to 25.\n",
        "# 'def' keyword is used to create a function.\n",
        "def odd():\n",
        "    l = []\n",
        "    for i in range(1,26):\n",
        "        if(i%2!=0):\n",
        "            l.append(i)\n",
        "    return l\n",
        "odd()"
      ]
    },
    {
      "cell_type": "code",
      "source": [
        "# Q2. Why *args and **kwargs is used in some functions? Create a function each for *args and **kwargs to demonstrate their use.\n",
        "# These make a Python function flexible so it can accept a variable number of arguments and keyword arguments, respectively.\n",
        "\n",
        "# *args\n",
        "def myFun(*args):\n",
        "\tfor arg in args:\n",
        "\t\tprint(arg)\n",
        "\n",
        "\n",
        "myFun('Hello', 'Welcome', 'to', 'pwskills')"
      ],
      "metadata": {
        "colab": {
          "base_uri": "https://localhost:8080/"
        },
        "id": "YfHoD9ADucGO",
        "outputId": "0effa9f7-fa71-478f-94de-4b1993dd66cd"
      },
      "execution_count": 2,
      "outputs": [
        {
          "output_type": "stream",
          "name": "stdout",
          "text": [
            "Hello\n",
            "Welcome\n",
            "to\n",
            "pwskills\n"
          ]
        }
      ]
    },
    {
      "cell_type": "code",
      "source": [
        "# **kwargs\n",
        "def myFun(**kwargs):\n",
        "\tfor key, value in kwargs.items():\n",
        "\t\tprint(\"%s == %s\" % (key, value))\n",
        "\n",
        "\n",
        "\n",
        "myFun(first='Welcome', mid='to', last='pwskills')\n"
      ],
      "metadata": {
        "colab": {
          "base_uri": "https://localhost:8080/"
        },
        "id": "G_PZPiJ2ugjs",
        "outputId": "03cae6e0-b56b-48e0-a9b1-ce4dd6e8048e"
      },
      "execution_count": 3,
      "outputs": [
        {
          "output_type": "stream",
          "name": "stdout",
          "text": [
            "first == Welcome\n",
            "mid == to\n",
            "last == pwskills\n"
          ]
        }
      ]
    },
    {
      "cell_type": "code",
      "source": [
        "# Q3. What is an iterator in python? Name the method used to initialise the iterator object and the methodused for iteration. Use these methods to print the first five elements of the given list [2, 4, 6, 8, 10, 12, 14,16, 18, 20].\n",
        "#an iterator is an object that allows you to iterate over collections of data, such as lists, tuples, dictionaries, and sets.\n",
        "# The iter() method is called for the initialization of an iterator. This returns an iterator object.\n",
        "\n",
        "l = [2,4,6,8,10,12,14,16,18,20]\n",
        "ch_iterator = iter(l)\n",
        "\n",
        "print(next(ch_iterator))\n",
        "print(next(ch_iterator))\n",
        "print(next(ch_iterator))\n",
        "print(next(ch_iterator))\n",
        "print(next(ch_iterator))\n",
        "print(next(ch_iterator))\n",
        "print(next(ch_iterator))\n",
        "print(next(ch_iterator))\n",
        "print(next(ch_iterator))\n",
        "print(next(ch_iterator))"
      ],
      "metadata": {
        "colab": {
          "base_uri": "https://localhost:8080/"
        },
        "id": "QVBSdB13ukQ9",
        "outputId": "9b0ffa1b-1c13-4992-e155-e4e285419952"
      },
      "execution_count": 4,
      "outputs": [
        {
          "output_type": "stream",
          "name": "stdout",
          "text": [
            "2\n",
            "4\n",
            "6\n",
            "8\n",
            "10\n",
            "12\n",
            "14\n",
            "16\n",
            "18\n",
            "20\n"
          ]
        }
      ]
    },
    {
      "cell_type": "code",
      "source": [
        "# Q4. What is a generator function in python? Why yield keyword is used? Give an example of a generator function.\n",
        "# A generator function in Python is defined like a normal function, but whenever it needs to generate a value, it does so with the yield keyword rather than return.\n",
        "# yield' is a special reserved keyword joh ki generator function banane me help karta hai\n",
        "# yield keyword is used to throw the data\n",
        "\n",
        "def test_fib(n):\n",
        "    a,b = 0,1\n",
        "    for i in range(n):\n",
        "        yield a\n",
        "        a,b = b , a+b\n",
        "for i in test_fib(5):\n",
        "    print(i)"
      ],
      "metadata": {
        "colab": {
          "base_uri": "https://localhost:8080/"
        },
        "id": "lAl556jKuto2",
        "outputId": "4fcbbb5f-28ca-4045-cc20-925882ee825a"
      },
      "execution_count": 5,
      "outputs": [
        {
          "output_type": "stream",
          "name": "stdout",
          "text": [
            "0\n",
            "1\n",
            "1\n",
            "2\n",
            "3\n"
          ]
        }
      ]
    },
    {
      "cell_type": "code",
      "source": [
        "# Q5. Create a generator function for prime numbers less than 1000. Use the next() method to print the first 20 prime numbers.\n",
        "def primes():\n",
        "    yield 2\n",
        "    primes_list = [2]\n",
        "    for i in range(3, 1000):\n",
        "        is_prime = True\n",
        "        for prime in primes_list:\n",
        "            if i % prime == 0:\n",
        "                is_prime = False\n",
        "                break\n",
        "        if is_prime:\n",
        "            primes_list.append(i)\n",
        "            yield i\n",
        "\n",
        "prime_gen = primes()\n",
        "for i in range(20):\n",
        "    print(next(prime_gen))\n"
      ],
      "metadata": {
        "colab": {
          "base_uri": "https://localhost:8080/"
        },
        "id": "hy_tia05uw2k",
        "outputId": "a791f78b-741a-4f8d-8679-b7e3cdedd79d"
      },
      "execution_count": 6,
      "outputs": [
        {
          "output_type": "stream",
          "name": "stdout",
          "text": [
            "2\n",
            "3\n",
            "5\n",
            "7\n",
            "11\n",
            "13\n",
            "17\n",
            "19\n",
            "23\n",
            "29\n",
            "31\n",
            "37\n",
            "41\n",
            "43\n",
            "47\n",
            "53\n",
            "59\n",
            "61\n",
            "67\n",
            "71\n"
          ]
        }
      ]
    },
    {
      "cell_type": "code",
      "source": [
        "# Q6. Write a python program to print the first 10 Fibonacci numbers using a while loop.\n",
        "\n",
        "def fib(n):\n",
        "    a,b = 0,1\n",
        "    count = 0\n",
        "    while count<n:\n",
        "        print(a)\n",
        "        a,b = b,a+b\n",
        "        count += 1\n",
        "\n",
        "fib(10)\n"
      ],
      "metadata": {
        "colab": {
          "base_uri": "https://localhost:8080/"
        },
        "id": "qh_U0LnDu13I",
        "outputId": "7de05d85-7754-4f8c-b874-2ec294a35879"
      },
      "execution_count": 7,
      "outputs": [
        {
          "output_type": "stream",
          "name": "stdout",
          "text": [
            "0\n",
            "1\n",
            "1\n",
            "2\n",
            "3\n",
            "5\n",
            "8\n",
            "13\n",
            "21\n",
            "34\n"
          ]
        }
      ]
    },
    {
      "cell_type": "code",
      "source": [
        "# Q7. Write a List Comprehension to iterate through the given string: ‘pwskills’.\n",
        "\n",
        "str = 'pwskills'\n",
        "output = [char for char in str]\n",
        "print(output)\n"
      ],
      "metadata": {
        "colab": {
          "base_uri": "https://localhost:8080/"
        },
        "id": "8rJbCWcJu6YN",
        "outputId": "331b1c4c-6c8d-42d6-ca8f-124d8b8ff052"
      },
      "execution_count": 8,
      "outputs": [
        {
          "output_type": "stream",
          "name": "stdout",
          "text": [
            "['p', 'w', 's', 'k', 'i', 'l', 'l', 's']\n"
          ]
        }
      ]
    },
    {
      "cell_type": "code",
      "source": [
        "# Q8. Write a python program to check whether a given number is Palindrome or not using a while loop.\n",
        "n = int(input(\"Please give a number : \"))\n",
        "def reverse(num):\n",
        "    if num<10:\n",
        "      return num\n",
        "    else:\n",
        "      return int((num%10) + (reverse(num//10)))\n",
        "def isPalindrome(num):\n",
        "    if num == reverse(num):\n",
        "        return 1\n",
        "    return 0\n",
        "if isPalindrome(n) == 1:\n",
        "    print(\"Given number is a palindrome\")\n",
        "else:\n",
        "    print(\"Given number is a not palindrome\")"
      ],
      "metadata": {
        "colab": {
          "base_uri": "https://localhost:8080/"
        },
        "id": "3KH6R-YJu_zv",
        "outputId": "fdc7581f-3dac-4c52-a193-78c1a28bb295"
      },
      "execution_count": 14,
      "outputs": [
        {
          "output_type": "stream",
          "name": "stdout",
          "text": [
            "Please give a number : 123\n",
            "Given number is a not palindrome\n"
          ]
        }
      ]
    },
    {
      "cell_type": "code",
      "source": [
        "# Q9. Write a code to print odd numbers from 1 to 100 using list comprehension.\n",
        "output = [i for i in range(101) if i%2 != 0]\n",
        "print(output)"
      ],
      "metadata": {
        "colab": {
          "base_uri": "https://localhost:8080/"
        },
        "id": "Q-gbedlJvU0f",
        "outputId": "dbfe639a-6324-48a9-c543-8c46278d3dba"
      },
      "execution_count": 13,
      "outputs": [
        {
          "output_type": "stream",
          "name": "stdout",
          "text": [
            "[1, 3, 5, 7, 9, 11, 13, 15, 17, 19, 21, 23, 25, 27, 29, 31, 33, 35, 37, 39, 41, 43, 45, 47, 49, 51, 53, 55, 57, 59, 61, 63, 65, 67, 69, 71, 73, 75, 77, 79, 81, 83, 85, 87, 89, 91, 93, 95, 97, 99]\n"
          ]
        }
      ]
    }
  ]
}